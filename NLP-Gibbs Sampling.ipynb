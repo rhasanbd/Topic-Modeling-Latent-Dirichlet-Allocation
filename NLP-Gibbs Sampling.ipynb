{
 "cells": [
  {
   "cell_type": "markdown",
   "metadata": {},
   "source": [
    "# Gibbs Sampling\n",
    "\n",
    "Gibbs sampling is a technique for **generating samples from multi-dimensional distributions**.\n",
    "\n",
    "The reason it's a challenging task is because the **joint distribution is unknown**: we cannot sample directly from it. We only know some of the conditional distributions. \n",
    "\n",
    "For example, for a two-dimensional variable (x, y) we don't know the joint probability p(x, y). But we know conditional distributions such as, p(y | x) and p(x | y). Gibbs sampling provides a technique to use these two conditional distributions to sample from the unknown joint distribution.\n",
    "\n",
    "In this notebook we use a simple example to understand how Gibbs sampling works.\n",
    "\n",
    "\n",
    "## Rolling Two Dice\n",
    "\n",
    "Assume that we have two fair dice.\n",
    "\n",
    "Let $x$ represent the outcome of the first die and $y$ be the sum of the outcome of two dice.\n",
    "\n",
    "Our goal is to generate lots of (x, y) pairs by using Gibbs sampling technique.\n",
    "\n",
    "Before we do this, let's simplify the problem. Assume we know the joint probability distribution of (x, y), hence can **directly sample from the joint distribution**."
   ]
  },
  {
   "cell_type": "code",
   "execution_count": 1,
   "metadata": {},
   "outputs": [],
   "source": [
    "import random\n",
    "from typing import Tuple, List, Dict\n",
    "from collections import defaultdict"
   ]
  },
  {
   "cell_type": "markdown",
   "metadata": {},
   "source": [
    "## Sampling Directly from Joint Distribution\n",
    "\n",
    "Since we know the probability distribution of each die, we can generate (x, y) pairs **directly** by rolling each die."
   ]
  },
  {
   "cell_type": "code",
   "execution_count": 2,
   "metadata": {},
   "outputs": [
    {
     "name": "stdout",
     "output_type": "stream",
     "text": [
      "\n",
      "Result of rolling two dice (outcome of die 1, sum of the outcome of two dice):  (2, 5)\n"
     ]
    }
   ],
   "source": [
    "def roll_a_die() -> int:\n",
    "    return random.choice([1, 2, 3, 4, 5, 6])\n",
    "\n",
    "def direct_sample() -> Tuple[int, int]:\n",
    "    d1 = roll_a_die()\n",
    "    d2 = roll_a_die()\n",
    "    return d1, d1 + d2\n",
    "\n",
    "# result_roll_a_die = roll_a_die()\n",
    "\n",
    "# print(result_roll_a_die)\n",
    "\n",
    "print(\"\\nResult of rolling two dice (outcome of die 1, sum of the outcome of two dice): \", direct_sample())"
   ]
  },
  {
   "cell_type": "markdown",
   "metadata": {},
   "source": [
    "## Sampling based on Conditional Distribution\n",
    "\n",
    "What if we don't know the joint distribution, but have knowledge about some conditional distributions.\n",
    "\n",
    "In Gibbs sampling we sample given two conditional distributions.\n",
    "- We know the distribution of y conditional on x.\n",
    "- We know the distribution of x conditional on y.\n",
    "\n",
    "First, let's see how we could sample given one of these two conditional distrubitions.\n",
    "\n",
    "\n",
    "## Distribution of y Conditional on x\n",
    "\n",
    "If we know the value of x, y is equally likely to be x + 1, x + 2, x + 3, x + 4, x + 5, or x + 6.\n",
    "\n",
    "Below we generate an (x, y) pair given x."
   ]
  },
  {
   "cell_type": "code",
   "execution_count": 3,
   "metadata": {},
   "outputs": [
    {
     "name": "stdout",
     "output_type": "stream",
     "text": [
      "\n",
      "Sum of outcome of rolling two dice (y) given the outcome of the first die (x = 6):  8\n"
     ]
    }
   ],
   "source": [
    "def random_y_given_x(x: int) -> int:\n",
    "    \"\"\"equally likely to be x + 1, x + 2, ... , x + 6\"\"\"\n",
    "    return x + roll_a_die()\n",
    "\n",
    "\n",
    "# Outcome of die 1\n",
    "x = 6\n",
    "\n",
    "print(\"\\nSum of outcome of rolling two dice (y) given the outcome of the first die (x = %d): \" \n",
    "      % x, random_y_given_x(x))"
   ]
  },
  {
   "cell_type": "markdown",
   "metadata": {},
   "source": [
    "## Distribution of x Conditional on y\n",
    "\n",
    "If we know that y is 2, then necessarily x is 1 (since the only way two dice can sum to 2 is if both of them are 1). \n",
    "\n",
    "If we know y is 3, then x is equally likely to be 1 or 2. \n",
    "\n",
    "Similarly, if y is 11, then x has to be either 5 or 6."
   ]
  },
  {
   "cell_type": "code",
   "execution_count": 4,
   "metadata": {},
   "outputs": [
    {
     "name": "stdout",
     "output_type": "stream",
     "text": [
      "\n",
      "Given the sum of the outcome of two dice (y = 11), outcome of die 1 (x):  5\n"
     ]
    }
   ],
   "source": [
    "def random_x_given_y(y: int) -> int:\n",
    "    if y <= 7:\n",
    "        # if the total is 7 or less, the first die is equally likely to be\n",
    "        # 1, 2, ..., (total - 1)\n",
    "        return random.randrange(1, y)\n",
    "    else:\n",
    "        # if the total is 7 or more, the first die is equally likely to be\n",
    "        # (total - 6), (total - 5), ..., 6\n",
    "        return random.randrange(y - 6, 7)\n",
    "    \n",
    "    \n",
    "# sum of the sides of two dice (y)\n",
    "y = 11\n",
    "    \n",
    "print(\"\\nGiven the sum of the outcome of two dice (y = %d), outcome of die 1 (x): \" \n",
    "      % y, random_x_given_y(y))"
   ]
  },
  {
   "cell_type": "markdown",
   "metadata": {},
   "source": [
    "## Gibbs Sampling\n",
    "\n",
    "In Gibbs sampling we use both conditional distributions.\n",
    "\n",
    "We start with any (valid) values for x and y and then repeatedly alternate\n",
    "- replacing x with a random value picked conditional on y and \n",
    "- replacing y with a random value picked conditional on x. \n",
    "\n",
    "After a number of iterations, the resulting values of x and y will represent a sample from the unconditional joint distribution."
   ]
  },
  {
   "cell_type": "code",
   "execution_count": 5,
   "metadata": {},
   "outputs": [
    {
     "name": "stdout",
     "output_type": "stream",
     "text": [
      "Outcome of die 1 (x) & sum of the outcome of two dice (y):  (4, 6)\n"
     ]
    }
   ],
   "source": [
    "def gibbs_sample(num_iters: int = 100) -> Tuple[int, int]:\n",
    "    x, y = 1, 2 # doesn't really matter\n",
    "    for _ in range(num_iters):\n",
    "        x = random_x_given_y(y)\n",
    "        y = random_y_given_x(x)\n",
    "    return x, y\n",
    "\n",
    "print(\"Outcome of die 1 (x) & sum of the outcome of two dice (y): \", gibbs_sample(10000))"
   ]
  },
  {
   "cell_type": "markdown",
   "metadata": {},
   "source": [
    "# Direct Sampling vs. Gibbs Sampling\n",
    "\n",
    "We compare the results obtained from Gibbs Sampling with that from Direct Sampling.\n",
    "\n",
    "We observe that as we add more samples, both techniques give similar result."
   ]
  },
  {
   "cell_type": "code",
   "execution_count": 6,
   "metadata": {},
   "outputs": [],
   "source": [
    "def compare_distributions(num_samples: int = 1000) -> Dict[int, List[int]]:\n",
    "    counts = defaultdict(lambda: [0, 0])\n",
    "    for _ in range(num_samples):\n",
    "        counts[gibbs_sample()][0] += 1\n",
    "        counts[direct_sample()][1] += 1\n",
    "    return counts"
   ]
  },
  {
   "cell_type": "code",
   "execution_count": 7,
   "metadata": {},
   "outputs": [
    {
     "name": "stdout",
     "output_type": "stream",
     "text": [
      "((2, 6), [264, 306])\n",
      "((6, 10), [270, 280])\n",
      "((3, 4), [240, 270])\n",
      "((4, 8), [315, 289])\n",
      "((3, 6), [277, 265])\n",
      "((3, 7), [271, 283])\n",
      "((6, 7), [303, 266])\n",
      "((1, 7), [279, 275])\n",
      "((4, 5), [268, 290])\n",
      "((2, 8), [281, 277])\n",
      "((5, 11), [277, 277])\n",
      "((2, 5), [267, 298])\n",
      "((6, 9), [300, 271])\n",
      "((6, 8), [248, 295])\n",
      "((4, 6), [286, 245])\n",
      "((3, 5), [283, 275])\n",
      "((1, 2), [291, 276])\n",
      "((2, 3), [262, 277])\n",
      "((3, 8), [249, 293])\n",
      "((5, 6), [283, 244])\n",
      "((4, 7), [283, 281])\n",
      "((6, 12), [289, 288])\n",
      "((3, 9), [273, 255])\n",
      "((1, 4), [306, 277])\n",
      "((5, 8), [286, 285])\n",
      "((1, 3), [273, 275])\n",
      "((1, 5), [294, 250])\n",
      "((5, 7), [254, 281])\n",
      "((4, 10), [292, 298])\n",
      "((2, 4), [262, 296])\n",
      "((2, 7), [267, 278])\n",
      "((5, 9), [262, 266])\n",
      "((4, 9), [295, 300])\n",
      "((5, 10), [276, 250])\n",
      "((6, 11), [297, 281])\n",
      "((1, 6), [277, 287])\n"
     ]
    }
   ],
   "source": [
    "counts = compare_distributions(10000)\n",
    "\n",
    "for i in counts.items():\n",
    "    print(i)"
   ]
  }
 ],
 "metadata": {
  "kernelspec": {
   "display_name": "Python 3",
   "language": "python",
   "name": "python3"
  },
  "language_info": {
   "codemirror_mode": {
    "name": "ipython",
    "version": 3
   },
   "file_extension": ".py",
   "mimetype": "text/x-python",
   "name": "python",
   "nbconvert_exporter": "python",
   "pygments_lexer": "ipython3",
   "version": "3.7.3"
  }
 },
 "nbformat": 4,
 "nbformat_minor": 2
}
